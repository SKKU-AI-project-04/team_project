{
 "cells": [
  {
   "cell_type": "code",
   "execution_count": 1,
   "metadata": {},
   "outputs": [],
   "source": [
    "import os\n",
    "import pandas as pd"
   ]
  },
  {
   "cell_type": "code",
   "execution_count": 2,
   "metadata": {},
   "outputs": [
    {
     "name": "stderr",
     "output_type": "stream",
     "text": [
      "C:\\Users\\bongy\\AppData\\Local\\Temp\\ipykernel_30436\\3660240552.py:3: ParserWarning: Falling back to the 'python' engine because the 'c' engine does not support regex separators (separators > 1 char and different from '\\s+' are interpreted as regex); you can avoid this warning by specifying engine='python'.\n",
      "  collection_df = pd.read_csv('./aihub/collection.tsv', sep='\\|\\|', header=None, names=['c_id', 'value_collection'])\n"
     ]
    }
   ],
   "source": [
    "qrels_df = pd.read_csv('./aihub/qrels.tsv', delimiter='\\t', header=None, names=['q_id', 'value_qrels'])\n",
    "questions_df = pd.read_csv('./aihub/questions.tsv', delimiter='\\t', header=None, names=['q_id', 'value_questions'])\n",
    "collection_df = pd.read_csv('./aihub/collection.tsv', sep='\\|\\|', header=None, names=['c_id', 'value_collection'])\n",
    "\n",
    "merged_df = pd.merge(qrels_df, questions_df, on='q_id', how='left')\n",
    "merged_df = pd.merge(merged_df, collection_df, left_on='value_qrels', right_on='c_id', how='left')\n",
    "\n",
    "result_df = merged_df[['value_questions', 'value_collection']]\n",
    "result_df.to_csv('./aihub/dataset.tsv', sep='|', index=False)"
   ]
  },
  {
   "cell_type": "code",
   "execution_count": 3,
   "metadata": {},
   "outputs": [],
   "source": [
    "qrels_test_df = pd.read_csv('./aihub/test/qrels_test.tsv', delimiter='\\t', header=None, names=['q_id', 'value_qrels'])\n",
    "\n",
    "\n",
    "merged_df = pd.merge(qrels_test_df, questions_df, on='q_id', how='left')\n",
    "merged_df = pd.merge(merged_df, collection_df, left_on='value_qrels', right_on='c_id', how='left')\n",
    "\n",
    "result_df = merged_df[['value_questions', 'value_collection']]\n",
    "result_df.to_csv('./aihub/test/test_dataset.tsv', sep='|', index=False)"
   ]
  },
  {
   "cell_type": "code",
   "execution_count": 4,
   "metadata": {},
   "outputs": [
    {
     "data": {
      "text/plain": [
       "3000"
      ]
     },
     "execution_count": 4,
     "metadata": {},
     "output_type": "execute_result"
    }
   ],
   "source": [
    "len(result_df)"
   ]
  }
 ],
 "metadata": {
  "kernelspec": {
   "display_name": "myenv",
   "language": "python",
   "name": "python3"
  },
  "language_info": {
   "codemirror_mode": {
    "name": "ipython",
    "version": 3
   },
   "file_extension": ".py",
   "mimetype": "text/x-python",
   "name": "python",
   "nbconvert_exporter": "python",
   "pygments_lexer": "ipython3",
   "version": "3.11.1"
  }
 },
 "nbformat": 4,
 "nbformat_minor": 2
}
