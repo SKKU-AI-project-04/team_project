{
 "cells": [
  {
   "cell_type": "code",
   "execution_count": 1,
   "metadata": {},
   "outputs": [
    {
     "name": "stderr",
     "output_type": "stream",
     "text": [
      "c:\\Users\\bongy\\AppData\\Local\\Programs\\Python\\Python311\\Lib\\site-packages\\tqdm\\auto.py:21: TqdmWarning: IProgress not found. Please update jupyter and ipywidgets. See https://ipywidgets.readthedocs.io/en/stable/user_install.html\n",
      "  from .autonotebook import tqdm as notebook_tqdm\n"
     ]
    }
   ],
   "source": [
    "import os\n",
    "import pandas as pd\n",
    "from torch.utils.data import Dataset, DataLoader\n",
    "from transformers import BertTokenizer, BertModel, AdamW\n",
    "from sklearn.model_selection import train_test_split\n",
    "\n",
    "import torch\n",
    "import torch.nn as nn\n",
    "import torch.nn.functional as F\n",
    "import torch.optim as optim\n",
    "import numpy as np\n",
    "from transformers import get_linear_schedule_with_warmup\n",
    "from torch.utils.data import SubsetRandomSampler\n",
    "\n",
    "from time import time\n",
    "from tqdm import tqdm"
   ]
  },
  {
   "cell_type": "code",
   "execution_count": 2,
   "metadata": {},
   "outputs": [],
   "source": [
    "current_directory = os.getcwd()\n",
    "parent_directory = os.path.dirname(current_directory)\n",
    "\n",
    "file_path = os.path.join(parent_directory, 'aihub', 'dataset.tsv')\n",
    "testfile_path = os.path.join(parent_directory, 'aihub/test', 'test_dataset.tsv')\n",
    "\n",
    "with open(file_path, 'r', encoding='utf-8') as f:\n",
    "    data = [line.strip().split('|', 1) for line in f]\n",
    "data = data[1:]\n",
    "\n",
    "with open(testfile_path, 'r', encoding='utf-8') as f:\n",
    "    testdata = [line.strip().split('|', 1) for line in f]\n",
    "testdata = testdata[1:]"
   ]
  },
  {
   "cell_type": "code",
   "execution_count": 3,
   "metadata": {},
   "outputs": [
    {
     "data": {
      "text/plain": [
       "(249689, 3000)"
      ]
     },
     "execution_count": 3,
     "metadata": {},
     "output_type": "execute_result"
    }
   ],
   "source": [
    "len(data), len(testdata)"
   ]
  },
  {
   "cell_type": "code",
   "execution_count": 4,
   "metadata": {},
   "outputs": [],
   "source": [
    "class DPRDataset(Dataset):\n",
    "    def __init__(self, questions, passages, tokenizer):\n",
    "        self.passages = passages\n",
    "        self.questions = questions\n",
    "        self.tokenizer = tokenizer\n",
    "\n",
    "    def __len__(self):\n",
    "        return len(self.passages)\n",
    "\n",
    "    def __getitem__(self, index):\n",
    "        passage = self.passages[index]\n",
    "        question = self.questions[index]\n",
    "        return question, passage\n",
    "\n",
    "    def collate_fn(self, batch):\n",
    "        passages, questions = zip(*batch)\n",
    "        passage_inputs = self.tokenizer.batch_encode_plus(passages, padding=True, truncation=True, return_tensors=\"pt\")\n",
    "        question_inputs = self.tokenizer.batch_encode_plus(questions, padding=True, truncation=True, return_tensors=\"pt\")\n",
    "        return question_inputs, passage_inputs"
   ]
  },
  {
   "cell_type": "code",
   "execution_count": 5,
   "metadata": {},
   "outputs": [
    {
     "name": "stdout",
     "output_type": "stream",
     "text": [
      "cuda\n"
     ]
    }
   ],
   "source": [
    "device = torch.device(\"cuda\" if torch.cuda.is_available() else \"cpu\")\n",
    "print(device)"
   ]
  },
  {
   "cell_type": "code",
   "execution_count": 6,
   "metadata": {},
   "outputs": [],
   "source": [
    "p_model = BertModel.from_pretrained(\"kykim/bert-kor-base\")\n",
    "q_model = BertModel.from_pretrained(\"kykim/bert-kor-base\")\n",
    "\n",
    "p_model.to(device)\n",
    "q_model.to(device)\n",
    "\n",
    "tokenizer = BertTokenizer.from_pretrained(\"kykim/bert-kor-base\")"
   ]
  },
  {
   "cell_type": "code",
   "execution_count": 7,
   "metadata": {},
   "outputs": [],
   "source": [
    "batch_size = 4"
   ]
  },
  {
   "cell_type": "code",
   "execution_count": 8,
   "metadata": {},
   "outputs": [],
   "source": [
    "questions = [row[0] for row in data]\n",
    "passages = [row[1] for row in data]\n",
    "\n",
    "train_questions, valid_questions, train_passages, valid_passages = train_test_split(\n",
    "    questions, passages, test_size=0.1\n",
    ")\n",
    "\n",
    "train_dataset = DPRDataset(train_questions, train_passages, tokenizer)\n",
    "valid_dataset = DPRDataset(valid_questions, valid_passages, tokenizer)\n",
    "\n",
    "train_dataloader = DataLoader(train_dataset, batch_size=batch_size, shuffle=True, collate_fn=train_dataset.collate_fn)\n",
    "valid_dataloader = DataLoader(valid_dataset, batch_size=batch_size, shuffle=False, collate_fn=valid_dataset.collate_fn)\n",
    "# input_ids : [bs, 512],    attention_mask : [bs, 512]"
   ]
  },
  {
   "cell_type": "code",
   "execution_count": 9,
   "metadata": {},
   "outputs": [
    {
     "data": {
      "text/plain": [
       "(56180, 6243)"
      ]
     },
     "execution_count": 9,
     "metadata": {},
     "output_type": "execute_result"
    }
   ],
   "source": [
    "len(train_dataloader), len(valid_dataloader)"
   ]
  },
  {
   "cell_type": "code",
   "execution_count": 10,
   "metadata": {},
   "outputs": [
    {
     "name": "stderr",
     "output_type": "stream",
     "text": [
      "c:\\Users\\mtm77\\myenv\\lib\\site-packages\\transformers\\optimization.py:411: FutureWarning: This implementation of AdamW is deprecated and will be removed in a future version. Use the PyTorch implementation torch.optim.AdamW instead, or set `no_deprecation_warning=True` to disable this warning\n",
      "  warnings.warn(\n",
      "c:\\Users\\mtm77\\myenv\\lib\\site-packages\\transformers\\optimization.py:411: FutureWarning: This implementation of AdamW is deprecated and will be removed in a future version. Use the PyTorch implementation torch.optim.AdamW instead, or set `no_deprecation_warning=True` to disable this warning\n",
      "  warnings.warn(\n"
     ]
    }
   ],
   "source": [
    "# AdamW 옵티마이저를 초기화하고 하나의 리스트로 합친 파라미터들을 전달\n",
    "p_optimizer = AdamW(p_model.parameters(), lr=2e-5, eps=1e-8)\n",
    "q_optimizer = AdamW(q_model.parameters(), lr=2e-5, eps=1e-8)\n",
    "\n",
    "epochs = 10\n",
    "\n",
    "total_steps = len(train_dataloader) * epochs\n",
    "p_scheduler = get_linear_schedule_with_warmup(p_optimizer,\n",
    "                                            num_warmup_steps = 0,\n",
    "                                            num_training_steps = total_steps)\n",
    "q_scheduler = get_linear_schedule_with_warmup(q_optimizer,\n",
    "                                            num_warmup_steps = 0,\n",
    "                                            num_training_steps = total_steps)"
   ]
  },
  {
   "cell_type": "code",
   "execution_count": 11,
   "metadata": {},
   "outputs": [
    {
     "name": "stderr",
     "output_type": "stream",
     "text": [
      "                                                               \r"
     ]
    },
    {
     "ename": "KeyboardInterrupt",
     "evalue": "",
     "output_type": "error",
     "traceback": [
      "\u001b[1;31m---------------------------------------------------------------------------\u001b[0m",
      "\u001b[1;31mKeyboardInterrupt\u001b[0m                         Traceback (most recent call last)",
      "\u001b[1;32mc:\\Users\\mtm77\\myenv\\workspace\\team_project\\code\\stage1\\dpr.ipynb Cell 11\u001b[0m line \u001b[0;36m1\n\u001b[0;32m      <a href='vscode-notebook-cell:/c%3A/Users/mtm77/myenv/workspace/team_project/code/stage1/dpr.ipynb#X35sZmlsZQ%3D%3D?line=6'>7</a>\u001b[0m total_loss \u001b[39m=\u001b[39m \u001b[39m0\u001b[39m\n\u001b[0;32m      <a href='vscode-notebook-cell:/c%3A/Users/mtm77/myenv/workspace/team_project/code/stage1/dpr.ipynb#X35sZmlsZQ%3D%3D?line=8'>9</a>\u001b[0m \u001b[39mfor\u001b[39;00m step, batch \u001b[39min\u001b[39;00m tqdm(\u001b[39menumerate\u001b[39m(train_dataloader), total \u001b[39m=\u001b[39m \u001b[39mlen\u001b[39m(train_dataloader), desc\u001b[39m=\u001b[39m\u001b[39m\"\u001b[39m\u001b[39mtraining\u001b[39m\u001b[39m\"\u001b[39m, leave \u001b[39m=\u001b[39m \u001b[39mFalse\u001b[39;00m):\n\u001b[1;32m---> <a href='vscode-notebook-cell:/c%3A/Users/mtm77/myenv/workspace/team_project/code/stage1/dpr.ipynb#X35sZmlsZQ%3D%3D?line=9'>10</a>\u001b[0m     batch \u001b[39m=\u001b[39m \u001b[39mtuple\u001b[39;49m(t\u001b[39m.\u001b[39;49mto(device) \u001b[39mfor\u001b[39;49;00m t \u001b[39min\u001b[39;49;00m batch)\n\u001b[0;32m     <a href='vscode-notebook-cell:/c%3A/Users/mtm77/myenv/workspace/team_project/code/stage1/dpr.ipynb#X35sZmlsZQ%3D%3D?line=10'>11</a>\u001b[0m     b_question, b_passage \u001b[39m=\u001b[39m batch\n\u001b[0;32m     <a href='vscode-notebook-cell:/c%3A/Users/mtm77/myenv/workspace/team_project/code/stage1/dpr.ipynb#X35sZmlsZQ%3D%3D?line=12'>13</a>\u001b[0m     p_optimizer\u001b[39m.\u001b[39mzero_grad()\n",
      "\u001b[1;32mc:\\Users\\mtm77\\myenv\\workspace\\team_project\\code\\stage1\\dpr.ipynb Cell 11\u001b[0m line \u001b[0;36m1\n\u001b[0;32m      <a href='vscode-notebook-cell:/c%3A/Users/mtm77/myenv/workspace/team_project/code/stage1/dpr.ipynb#X35sZmlsZQ%3D%3D?line=6'>7</a>\u001b[0m total_loss \u001b[39m=\u001b[39m \u001b[39m0\u001b[39m\n\u001b[0;32m      <a href='vscode-notebook-cell:/c%3A/Users/mtm77/myenv/workspace/team_project/code/stage1/dpr.ipynb#X35sZmlsZQ%3D%3D?line=8'>9</a>\u001b[0m \u001b[39mfor\u001b[39;00m step, batch \u001b[39min\u001b[39;00m tqdm(\u001b[39menumerate\u001b[39m(train_dataloader), total \u001b[39m=\u001b[39m \u001b[39mlen\u001b[39m(train_dataloader), desc\u001b[39m=\u001b[39m\u001b[39m\"\u001b[39m\u001b[39mtraining\u001b[39m\u001b[39m\"\u001b[39m, leave \u001b[39m=\u001b[39m \u001b[39mFalse\u001b[39;00m):\n\u001b[1;32m---> <a href='vscode-notebook-cell:/c%3A/Users/mtm77/myenv/workspace/team_project/code/stage1/dpr.ipynb#X35sZmlsZQ%3D%3D?line=9'>10</a>\u001b[0m     batch \u001b[39m=\u001b[39m \u001b[39mtuple\u001b[39m(t\u001b[39m.\u001b[39;49mto(device) \u001b[39mfor\u001b[39;00m t \u001b[39min\u001b[39;00m batch)\n\u001b[0;32m     <a href='vscode-notebook-cell:/c%3A/Users/mtm77/myenv/workspace/team_project/code/stage1/dpr.ipynb#X35sZmlsZQ%3D%3D?line=10'>11</a>\u001b[0m     b_question, b_passage \u001b[39m=\u001b[39m batch\n\u001b[0;32m     <a href='vscode-notebook-cell:/c%3A/Users/mtm77/myenv/workspace/team_project/code/stage1/dpr.ipynb#X35sZmlsZQ%3D%3D?line=12'>13</a>\u001b[0m     p_optimizer\u001b[39m.\u001b[39mzero_grad()\n",
      "File \u001b[1;32mc:\\Users\\mtm77\\myenv\\lib\\site-packages\\transformers\\tokenization_utils_base.py:789\u001b[0m, in \u001b[0;36mBatchEncoding.to\u001b[1;34m(self, device)\u001b[0m\n\u001b[0;32m    785\u001b[0m \u001b[39m# This check catches things like APEX blindly calling \"to\" on all inputs to a module\u001b[39;00m\n\u001b[0;32m    786\u001b[0m \u001b[39m# Otherwise it passes the casts down and casts the LongTensor containing the token idxs\u001b[39;00m\n\u001b[0;32m    787\u001b[0m \u001b[39m# into a HalfTensor\u001b[39;00m\n\u001b[0;32m    788\u001b[0m \u001b[39mif\u001b[39;00m \u001b[39misinstance\u001b[39m(device, \u001b[39mstr\u001b[39m) \u001b[39mor\u001b[39;00m is_torch_device(device) \u001b[39mor\u001b[39;00m \u001b[39misinstance\u001b[39m(device, \u001b[39mint\u001b[39m):\n\u001b[1;32m--> 789\u001b[0m     \u001b[39mself\u001b[39m\u001b[39m.\u001b[39mdata \u001b[39m=\u001b[39m {k: v\u001b[39m.\u001b[39mto(device\u001b[39m=\u001b[39mdevice) \u001b[39mfor\u001b[39;00m k, v \u001b[39min\u001b[39;00m \u001b[39mself\u001b[39m\u001b[39m.\u001b[39mdata\u001b[39m.\u001b[39mitems()}\n\u001b[0;32m    790\u001b[0m \u001b[39melse\u001b[39;00m:\n\u001b[0;32m    791\u001b[0m     logger\u001b[39m.\u001b[39mwarning(\u001b[39mf\u001b[39m\u001b[39m\"\u001b[39m\u001b[39mAttempting to cast a BatchEncoding to type \u001b[39m\u001b[39m{\u001b[39;00m\u001b[39mstr\u001b[39m(device)\u001b[39m}\u001b[39;00m\u001b[39m. This is not supported.\u001b[39m\u001b[39m\"\u001b[39m)\n",
      "File \u001b[1;32mc:\\Users\\mtm77\\myenv\\lib\\site-packages\\transformers\\tokenization_utils_base.py:789\u001b[0m, in \u001b[0;36m<dictcomp>\u001b[1;34m(.0)\u001b[0m\n\u001b[0;32m    785\u001b[0m \u001b[39m# This check catches things like APEX blindly calling \"to\" on all inputs to a module\u001b[39;00m\n\u001b[0;32m    786\u001b[0m \u001b[39m# Otherwise it passes the casts down and casts the LongTensor containing the token idxs\u001b[39;00m\n\u001b[0;32m    787\u001b[0m \u001b[39m# into a HalfTensor\u001b[39;00m\n\u001b[0;32m    788\u001b[0m \u001b[39mif\u001b[39;00m \u001b[39misinstance\u001b[39m(device, \u001b[39mstr\u001b[39m) \u001b[39mor\u001b[39;00m is_torch_device(device) \u001b[39mor\u001b[39;00m \u001b[39misinstance\u001b[39m(device, \u001b[39mint\u001b[39m):\n\u001b[1;32m--> 789\u001b[0m     \u001b[39mself\u001b[39m\u001b[39m.\u001b[39mdata \u001b[39m=\u001b[39m {k: v\u001b[39m.\u001b[39;49mto(device\u001b[39m=\u001b[39;49mdevice) \u001b[39mfor\u001b[39;00m k, v \u001b[39min\u001b[39;00m \u001b[39mself\u001b[39m\u001b[39m.\u001b[39mdata\u001b[39m.\u001b[39mitems()}\n\u001b[0;32m    790\u001b[0m \u001b[39melse\u001b[39;00m:\n\u001b[0;32m    791\u001b[0m     logger\u001b[39m.\u001b[39mwarning(\u001b[39mf\u001b[39m\u001b[39m\"\u001b[39m\u001b[39mAttempting to cast a BatchEncoding to type \u001b[39m\u001b[39m{\u001b[39;00m\u001b[39mstr\u001b[39m(device)\u001b[39m}\u001b[39;00m\u001b[39m. This is not supported.\u001b[39m\u001b[39m\"\u001b[39m)\n",
      "\u001b[1;31mKeyboardInterrupt\u001b[0m: "
     ]
    }
   ],
   "source": [
    "inf_loss = float('inf')\n",
    "cnt = 0\n",
    "\n",
    "for epoch in range(epochs):\n",
    "    q_model.train()\n",
    "    p_model.train()\n",
    "    total_loss = 0\n",
    "\n",
    "    for step, batch in tqdm(enumerate(train_dataloader), total = len(train_dataloader), desc=\"training\", leave = False):\n",
    "        batch = tuple(t.to(device) for t in batch)\n",
    "        b_question, b_passage = batch\n",
    "\n",
    "        p_optimizer.zero_grad()\n",
    "        q_optimizer.zero_grad()\n",
    "\n",
    "        question_v = q_model(**b_question).pooler_output\n",
    "        passage_v = p_model(**b_passage).pooler_output\n",
    "\n",
    "        cosine = torch.matmul(question_v, torch.transpose(passage_v, 0, 1))\n",
    "        cosine = torch.nn.functional.log_softmax(cosine, dim=1)\n",
    "\n",
    "        targets = torch.arange(0, question_v.shape[0]).long().to(device)\n",
    "\n",
    "        loss = torch.nn.functional.nll_loss(cosine, targets)\n",
    "\n",
    "        loss.backward()\n",
    "        p_optimizer.step()\n",
    "        q_optimizer.step()\n",
    "\n",
    "        p_scheduler.step()\n",
    "        q_scheduler.step()\n",
    "        total_loss += loss.item()\n",
    "    print(f'epoch : {epoch+1}/{epochs}, train loss : {total_loss / len(train_dataloader)}')\n",
    "\n",
    "\n",
    "    q_model.eval()\n",
    "    p_model.eval()\n",
    "    with torch.no_grad():\n",
    "        valid_loss = 0.0\n",
    "        for step, batch in tqdm(enumerate(valid_dataloader), total = len(valid_dataloader), desc = \"validing\", leave = False):\n",
    "            batch = tuple(t.to(device) for t in batch)\n",
    "            b_question, b_passage = batch\n",
    "\n",
    "            question_v = q_model(**b_question).pooler_output\n",
    "            passage_v = p_model(**b_passage).pooler_output\n",
    "\n",
    "            cosine = torch.matmul(question_v, torch.transpose(passage_v, 0, 1))\n",
    "            cosine = torch.nn.functional.log_softmax(cosine, dim=1)\n",
    "\n",
    "            targets = torch.arange(0, question_v.shape[0]).long().to(device)\n",
    "\n",
    "            loss = torch.nn.functional.nll_loss(cosine, targets)\n",
    "            valid_loss += loss\n",
    "        print(f'epoch : {epoch+1}/{epochs}, valid loss : {valid_loss / len(valid_dataloader)}')\n",
    "        if inf_loss < (valid_loss / len(valid_dataloader)):\n",
    "            cnt = 0\n",
    "            inf_loss = valid_loss / len(valid_dataloader)\n",
    "            torch.save(q_model.state_dict(), 'DPR_q.pth')\n",
    "            torch.save(p_model.state_dict(), 'DPR_p.pth')\n",
    "        else:\n",
    "            cnt += 1\n",
    "            if cnt > 2:\n",
    "                break"
   ]
  }
 ],
 "metadata": {
  "kernelspec": {
   "display_name": "myenv",
   "language": "python",
   "name": "python3"
  },
  "language_info": {
   "codemirror_mode": {
    "name": "ipython",
    "version": 3
   },
   "file_extension": ".py",
   "mimetype": "text/x-python",
   "name": "python",
   "nbconvert_exporter": "python",
   "pygments_lexer": "ipython3",
   "version": "3.11.1"
  }
 },
 "nbformat": 4,
 "nbformat_minor": 2
}
