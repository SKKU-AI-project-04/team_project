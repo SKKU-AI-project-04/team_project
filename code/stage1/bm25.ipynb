{
 "cells": [
  {
   "cell_type": "code",
   "execution_count": 14,
   "metadata": {},
   "outputs": [],
   "source": [
    "from rank_bm25 import BM25Okapi\n",
    "import numpy as np\n",
    "import csv\n",
    "from tqdm import tqdm\n",
    "from konlpy.tag import Mecab"
   ]
  },
  {
   "cell_type": "code",
   "execution_count": 15,
   "metadata": {},
   "outputs": [],
   "source": [
    "mecab = Mecab(\"C:\\mecab\\mecab-ko-dic\")\n",
    "def mecab_tokenizer(sent):\n",
    "    return mecab.morphs(sent)"
   ]
  },
  {
   "cell_type": "markdown",
   "metadata": {},
   "source": [
    "document"
   ]
  },
  {
   "cell_type": "code",
   "execution_count": 17,
   "metadata": {},
   "outputs": [],
   "source": [
    "doc_id = []\n",
    "corpus = []\n",
    "\n",
    "with open('./aihub/collection.tsv', 'r', encoding='utf-8') as f:\n",
    "    for line in f:\n",
    "        parts = line.split('||', 1)\n",
    "        docid = parts[0].strip()\n",
    "        corpus_ = parts[1].strip()\n",
    "        doc_id.append(docid)\n",
    "        corpus.append(corpus_)"
   ]
  },
  {
   "cell_type": "code",
   "execution_count": 18,
   "metadata": {},
   "outputs": [
    {
     "data": {
      "text/plain": [
       "(124535, 124535)"
      ]
     },
     "execution_count": 18,
     "metadata": {},
     "output_type": "execute_result"
    }
   ],
   "source": [
    "len(doc_id), len(corpus)"
   ]
  },
  {
   "cell_type": "markdown",
   "metadata": {},
   "source": [
    "tokenizer"
   ]
  },
  {
   "cell_type": "code",
   "execution_count": 19,
   "metadata": {},
   "outputs": [
    {
     "name": "stderr",
     "output_type": "stream",
     "text": [
      "  0%|          | 0/124535 [00:00<?, ?it/s]"
     ]
    },
    {
     "name": "stderr",
     "output_type": "stream",
     "text": [
      "100%|██████████| 124535/124535 [02:39<00:00, 782.87it/s] \n"
     ]
    }
   ],
   "source": [
    "tokenized_corpus = [mecab_tokenizer(doc) for doc in tqdm(corpus)]"
   ]
  },
  {
   "cell_type": "code",
   "execution_count": 20,
   "metadata": {},
   "outputs": [],
   "source": [
    "k1 = 1.2\n",
    "b = 0.75\n",
    "bm25 = BM25Okapi(tokenized_corpus, k1=k1, b = b)"
   ]
  },
  {
   "cell_type": "markdown",
   "metadata": {},
   "source": [
    "쿼리"
   ]
  },
  {
   "cell_type": "code",
   "execution_count": 21,
   "metadata": {},
   "outputs": [],
   "source": [
    "questions = {}\n",
    "\n",
    "with open('./aihub/questions.tsv', 'r', encoding='utf-8') as f:\n",
    "    for line in f:\n",
    "        parts = line.split('\\t', 1)\n",
    "        qid = parts[0].strip()\n",
    "        question = parts[1].strip()\n",
    "        if qid in questions.keys():\n",
    "            print('1')\n",
    "        else:\n",
    "            questions[qid] = question\n"
   ]
  },
  {
   "cell_type": "code",
   "execution_count": 22,
   "metadata": {},
   "outputs": [
    {
     "data": {
      "text/plain": [
       "252689"
      ]
     },
     "execution_count": 22,
     "metadata": {},
     "output_type": "execute_result"
    }
   ],
   "source": [
    "len(questions)"
   ]
  },
  {
   "cell_type": "markdown",
   "metadata": {},
   "source": [
    "정답"
   ]
  },
  {
   "cell_type": "code",
   "execution_count": 23,
   "metadata": {},
   "outputs": [],
   "source": [
    "test_qids = []\n",
    "test_docid = []\n",
    "\n",
    "with open('./aihub/test/qrels_test.tsv', 'r', encoding='utf-8') as f:\n",
    "    for line in f:\n",
    "        parts = line.split('\\t', 1)\n",
    "        qid = parts[0].strip()\n",
    "        docid = parts[1].strip()\n",
    "        test_qids.append(qid)\n",
    "        test_docid.append(docid)"
   ]
  },
  {
   "cell_type": "code",
   "execution_count": 24,
   "metadata": {},
   "outputs": [
    {
     "data": {
      "text/plain": [
       "(3000, 3000)"
      ]
     },
     "execution_count": 24,
     "metadata": {},
     "output_type": "execute_result"
    }
   ],
   "source": [
    "len(test_qids), len(test_docid)"
   ]
  },
  {
   "cell_type": "markdown",
   "metadata": {},
   "source": [
    "test"
   ]
  },
  {
   "cell_type": "code",
   "execution_count": 25,
   "metadata": {},
   "outputs": [
    {
     "name": "stderr",
     "output_type": "stream",
     "text": [
      "100%|██████████| 3000/3000 [1:27:53<00:00,  1.76s/it]\n"
     ]
    }
   ],
   "source": [
    "recall1 = 0\n",
    "recall5 = 0\n",
    "recall10 = 0\n",
    "recall20 = 0\n",
    "\n",
    "\n",
    "for idx, test_qid in tqdm(enumerate(test_qids), total = len(test_qids)):\n",
    "    query = questions[test_qid]\n",
    "    answer = test_docid[idx]\n",
    "\n",
    "    tokenized_query = mecab_tokenizer(query)\n",
    "    doc_scores = bm25.get_scores(tokenized_query)\n",
    "    \n",
    "    top_indices = np.argsort(doc_scores)[-100:][::-1]\n",
    "\n",
    "    for i, idx in enumerate(top_indices):\n",
    "        if i < 1 and answer == doc_id[idx]:\n",
    "            recall1 += 1\n",
    "            recall5 += 1\n",
    "            recall10 += 1\n",
    "            recall20 += 1\n",
    "            break\n",
    "        elif i < 5 and answer == doc_id[idx]:\n",
    "            recall5 += 1\n",
    "            recall10 += 1\n",
    "            recall20 += 1\n",
    "            break\n",
    "        elif i < 10 and answer == doc_id[idx]:\n",
    "            recall10 += 1\n",
    "            recall20 += 1\n",
    "            break\n",
    "        elif i < 20 and answer == doc_id[idx]:\n",
    "            recall20 += 1\n",
    "            break"
   ]
  },
  {
   "cell_type": "code",
   "execution_count": 26,
   "metadata": {},
   "outputs": [
    {
     "name": "stdout",
     "output_type": "stream",
     "text": [
      "0.6346666666666667\n",
      "0.866\n",
      "0.9033333333333333\n",
      "0.9396666666666667\n"
     ]
    }
   ],
   "source": [
    "print(recall1 / len(test_qids))\n",
    "print(recall5 / len(test_qids))\n",
    "print(recall10 / len(test_qids))\n",
    "print(recall20 / len(test_qids))"
   ]
  }
 ],
 "metadata": {
  "kernelspec": {
   "display_name": "pytorch",
   "language": "python",
   "name": "python3"
  },
  "language_info": {
   "codemirror_mode": {
    "name": "ipython",
    "version": 3
   },
   "file_extension": ".py",
   "mimetype": "text/x-python",
   "name": "python",
   "nbconvert_exporter": "python",
   "pygments_lexer": "ipython3",
   "version": "3.11.1"
  },
  "orig_nbformat": 4
 },
 "nbformat": 4,
 "nbformat_minor": 2
}
